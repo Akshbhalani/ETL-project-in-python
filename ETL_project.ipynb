{
  "nbformat": 4,
  "nbformat_minor": 0,
  "metadata": {
    "colab": {
      "provenance": [],
      "authorship_tag": "ABX9TyMdFUr5oTMRg9HEY6P09RNC",
      "include_colab_link": true
    },
    "kernelspec": {
      "name": "python3",
      "display_name": "Python 3"
    },
    "language_info": {
      "name": "python"
    }
  },
  "cells": [
    {
      "cell_type": "markdown",
      "metadata": {
        "id": "view-in-github",
        "colab_type": "text"
      },
      "source": [
        "<a href=\"https://colab.research.google.com/github/Akshbhalani/ETL-project-in-python/blob/main/ETL_project.ipynb\" target=\"_parent\"><img src=\"https://colab.research.google.com/assets/colab-badge.svg\" alt=\"Open In Colab\"/></a>"
      ]
    },
    {
      "cell_type": "code",
      "execution_count": 37,
      "metadata": {
        "id": "S7-xWcoRhEmj"
      },
      "outputs": [],
      "source": [
        "# wget https://cf-courses-data.s3.us.cloud-object-storage.appdomain.cloud/IBMDeveloperSkillsNetwork-PY0221EN-SkillsNetwork/labs/module%206/Lab%20-%20Extract%20Transform%20Load/data/source.zip"
      ]
    },
    {
      "cell_type": "code",
      "source": [
        "import pandas as pd\n",
        "import glob\n",
        "import xml.etree.ElementTree as ET\n",
        "from datetime import datetime"
      ],
      "metadata": {
        "id": "MqgnhiBHh05B"
      },
      "execution_count": 38,
      "outputs": []
    },
    {
      "cell_type": "code",
      "source": [
        "log_file = \"log_file.txt\"\n",
        "target_file = \"transformed_data.csv\""
      ],
      "metadata": {
        "id": "JyumU9uOh08Y"
      },
      "execution_count": 39,
      "outputs": []
    },
    {
      "cell_type": "code",
      "source": [
        "def extract_from_csv(filename):\n",
        "  dataFrame = pd.read_csv(filename)\n",
        "  return dataFrame"
      ],
      "metadata": {
        "id": "vCZdT8RRkaRx"
      },
      "execution_count": 40,
      "outputs": []
    },
    {
      "cell_type": "code",
      "source": [
        "# print(extract_from_csv('/content/source1.csv'))"
      ],
      "metadata": {
        "id": "98g3SzbQBN0h"
      },
      "execution_count": 41,
      "outputs": []
    },
    {
      "cell_type": "code",
      "source": [
        "def extract_from_json(filename):\n",
        "  dataFrame = pd.read_json(filename, lines=True)\n",
        "  return dataFrame"
      ],
      "metadata": {
        "id": "ivUNiYs-pO2C"
      },
      "execution_count": 42,
      "outputs": []
    },
    {
      "cell_type": "code",
      "source": [
        "# print(extract_from_json('/content/source1.json'))"
      ],
      "metadata": {
        "id": "wrdsjjshBS2J"
      },
      "execution_count": 43,
      "outputs": []
    },
    {
      "cell_type": "code",
      "source": [
        "def extract_from_xml(filename):\n",
        "  dataFrame = pd.DataFrame(columns=['name', 'height', 'weight'])\n",
        "  tree = ET.parse(filename)\n",
        "  root = tree.getroot()\n",
        "  for person in root:\n",
        "    name = person.find('name').text\n",
        "    height = float(person.find('height').text)\n",
        "    weight = float(person.find('weight').text)\n",
        "    dataFrame = pd.concat([dataFrame, pd.DataFrame([{'name':name, 'height':height, 'weight':weight}])], ignore_index=True)\n",
        "\n",
        "  return dataFrame"
      ],
      "metadata": {
        "id": "x95Ws72hpcnm"
      },
      "execution_count": 44,
      "outputs": []
    },
    {
      "cell_type": "code",
      "source": [
        "def extract():\n",
        "  extracted_file = pd.DataFrame(columns=['name', 'height', 'weight'])\n",
        "\n",
        "  # for csv file\n",
        "  for csvFiles in glob.glob('*.csv'):\n",
        "    extracted_file = pd.concat([extracted_file, pd.DataFrame(extract_from_csv(csvFiles))], ignore_index=True)\n",
        "\n",
        "  # for json file\n",
        "  for jsonFiles in glob.glob('*.json'):\n",
        "    extracted_file = pd.concat([extracted_file, pd.DataFrame(extract_from_json(jsonFiles))], ignore_index=True)\n",
        "\n",
        "  # for xml file\n",
        "  for xmlFiles in glob.glob('*.xml'):\n",
        "    extracted_file = pd.concat([extracted_file, pd.DataFrame(extract_from_xml(xmlFiles))], ignore_index=True)\n",
        "\n",
        "  return extracted_file"
      ],
      "metadata": {
        "id": "LMRVH7L-rA6o"
      },
      "execution_count": 45,
      "outputs": []
    },
    {
      "cell_type": "code",
      "source": [
        "def transform(data):\n",
        "\n",
        "  # convert height from inches to meter.     1 inche = 0.0254 meter\n",
        "  data['height'] = round(data.height * 0.0254, 2)\n",
        "\n",
        "  # convert weight from pound to kg.         1 pound = 0.45359237 kg\n",
        "  data['weight'] = round(data.weight * 0.45359237, 2)\n",
        "\n",
        "  return data"
      ],
      "metadata": {
        "id": "EVAnybjOrKlr"
      },
      "execution_count": 46,
      "outputs": []
    },
    {
      "cell_type": "code",
      "source": [
        "def load(target_file, transformed_data):\n",
        "  transformed_data.to_csv(target_file)"
      ],
      "metadata": {
        "id": "g4B8eUCoPcQh"
      },
      "execution_count": 47,
      "outputs": []
    },
    {
      "cell_type": "code",
      "source": [
        "def logging(message):\n",
        "  time = datetime.now()\n",
        "  format = '%Y/%h/%d %H:%M:%S'\n",
        "  timetemp = time.strftime(format)\n",
        "  with open(log_file, 'a') as f:\n",
        "    f.write(message + ' ' + timetemp + '\\n')"
      ],
      "metadata": {
        "id": "rFz3wcnGQvjO"
      },
      "execution_count": 48,
      "outputs": []
    },
    {
      "cell_type": "code",
      "source": [
        "# extracted_file = extract()\n",
        "# print(extracted_file)"
      ],
      "metadata": {
        "id": "TGyj6t5wrMfL"
      },
      "execution_count": 49,
      "outputs": []
    },
    {
      "cell_type": "code",
      "source": [
        "# transformed_data = (transform(extracted_file))\n",
        "# print(transformed_data)"
      ],
      "metadata": {
        "id": "CCwdFtzo-43o"
      },
      "execution_count": 50,
      "outputs": []
    },
    {
      "cell_type": "code",
      "source": [
        "print(\"string.........\")\n",
        "\n",
        "print(logging(\"ETL extraction start!\"))\n",
        "\n",
        "extracted_file = extract()\n",
        "\n",
        "\n",
        "print(logging(\"ETL extraction end!\"))\n",
        "\n",
        "print(logging(\"ETL transformation start!\"))\n",
        "\n",
        "transformed_data = (transform(extracted_file))\n",
        "print(transformed_data)\n",
        "\n",
        "print(logging(\"ETL transformation end!\"))\n",
        "\n",
        "print(logging(\"ETL loding start!\"))\n",
        "\n",
        "load(target_file, transformed_data)\n",
        "\n",
        "print(logging(\"ETL loding end!\"))\n"
      ],
      "metadata": {
        "id": "qpjELgYJBFUQ",
        "colab": {
          "base_uri": "https://localhost:8080/"
        },
        "outputId": "bee74f54-5bec-4834-cacf-4ae3c902a911"
      },
      "execution_count": 51,
      "outputs": [
        {
          "output_type": "stream",
          "name": "stdout",
          "text": [
            "string.........\n",
            "None\n",
            "None\n",
            "None\n",
            "     name  height  weight  Unnamed: 0\n",
            "0    alex    0.04   23.25         0.0\n",
            "1    ajay    0.05   28.08         1.0\n",
            "2   alice    0.04   31.48         2.0\n",
            "3    ravi    0.04   29.28         3.0\n",
            "4     joe    0.04   29.69         4.0\n",
            "..    ...     ...     ...         ...\n",
            "73   ivan    1.72   51.77         NaN\n",
            "74  simon    1.72   50.97         NaN\n",
            "75  jacob    1.70   54.73         NaN\n",
            "76  cindy    1.69   57.81         NaN\n",
            "77   ivan    1.72   51.77         NaN\n",
            "\n",
            "[78 rows x 4 columns]\n",
            "None\n",
            "None\n",
            "None\n"
          ]
        }
      ]
    }
  ]
}